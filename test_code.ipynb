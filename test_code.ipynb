{
 "cells": [
  {
   "cell_type": "code",
   "execution_count": 1,
   "metadata": {},
   "outputs": [
    {
     "name": "stderr",
     "output_type": "stream",
     "text": [
      "e:\\HocTap\\ML\\ContinualLearning\\.venv\\Lib\\site-packages\\torch\\nn\\modules\\transformer.py:20: UserWarning: Failed to initialize NumPy: No module named 'numpy' (Triggered internally at ..\\torch\\csrc\\utils\\tensor_numpy.cpp:84.)\n",
      "  device: torch.device = torch.device(torch._C._get_default_device()),  # torch.device('cpu'),\n"
     ]
    }
   ],
   "source": [
    "import torch\n",
    "import torch.nn.functional as F"
   ]
  },
  {
   "cell_type": "code",
   "execution_count": 13,
   "metadata": {},
   "outputs": [],
   "source": [
    "pred = torch.randn(1, 2, 3, 3, 3)\n"
   ]
  },
  {
   "cell_type": "code",
   "execution_count": 14,
   "metadata": {},
   "outputs": [
    {
     "data": {
      "text/plain": [
       "tensor([[[[[-0.3666, -0.1789, -0.3015],\n",
       "           [-1.1863,  0.8609, -0.9325],\n",
       "           [ 0.6061, -0.2307,  1.0710]],\n",
       "\n",
       "          [[-1.3074,  0.2537, -0.1385],\n",
       "           [ 0.3581, -0.0613,  0.2460],\n",
       "           [ 1.6468,  0.2739,  0.6683]],\n",
       "\n",
       "          [[-0.2169,  1.2458, -0.5920],\n",
       "           [ 0.1181,  0.5866,  0.1191],\n",
       "           [ 0.4307,  0.2219,  0.0679]]],\n",
       "\n",
       "\n",
       "         [[[-0.8369,  0.2369, -1.3818],\n",
       "           [-1.2161,  0.5962,  1.5072],\n",
       "           [ 1.5431, -0.1711, -1.8046]],\n",
       "\n",
       "          [[ 0.5203,  1.4847, -1.3670],\n",
       "           [ 0.5314, -0.0295,  0.4863],\n",
       "           [ 0.8407,  1.8738, -1.5293]],\n",
       "\n",
       "          [[-0.3530, -1.3376, -1.1226],\n",
       "           [-0.2724,  0.5982, -0.6006],\n",
       "           [ 0.8778, -1.4884,  0.4192]]]]])"
      ]
     },
     "execution_count": 14,
     "metadata": {},
     "output_type": "execute_result"
    }
   ],
   "source": [
    "pred"
   ]
  },
  {
   "cell_type": "code",
   "execution_count": 15,
   "metadata": {},
   "outputs": [],
   "source": [
    "pred_sigmoid = F.sigmoid(pred)"
   ]
  },
  {
   "cell_type": "code",
   "execution_count": 17,
   "metadata": {},
   "outputs": [
    {
     "data": {
      "text/plain": [
       "tensor([[[[[0.4094, 0.4554, 0.4252],\n",
       "           [0.2339, 0.7028, 0.2824],\n",
       "           [0.6470, 0.4426, 0.7448]],\n",
       "\n",
       "          [[0.2129, 0.5631, 0.4654],\n",
       "           [0.5886, 0.4847, 0.5612],\n",
       "           [0.8385, 0.5681, 0.6611]],\n",
       "\n",
       "          [[0.4460, 0.7766, 0.3562],\n",
       "           [0.5295, 0.6426, 0.5297],\n",
       "           [0.6060, 0.5553, 0.5170]]],\n",
       "\n",
       "\n",
       "         [[[0.3022, 0.5590, 0.2007],\n",
       "           [0.2286, 0.6448, 0.8187],\n",
       "           [0.8239, 0.4573, 0.1413]],\n",
       "\n",
       "          [[0.6272, 0.8153, 0.2031],\n",
       "           [0.6298, 0.4926, 0.6192],\n",
       "           [0.6986, 0.8669, 0.1781]],\n",
       "\n",
       "          [[0.4127, 0.2079, 0.2455],\n",
       "           [0.4323, 0.6452, 0.3542],\n",
       "           [0.7064, 0.1842, 0.6033]]]]])"
      ]
     },
     "execution_count": 17,
     "metadata": {},
     "output_type": "execute_result"
    }
   ],
   "source": [
    "pred_sigmoid"
   ]
  },
  {
   "cell_type": "code",
   "execution_count": 18,
   "metadata": {},
   "outputs": [],
   "source": [
    "pred_hard = pred_sigmoid > 0.5"
   ]
  },
  {
   "cell_type": "code",
   "execution_count": 20,
   "metadata": {},
   "outputs": [],
   "source": [
    "pred_hard_post = pred_hard"
   ]
  },
  {
   "cell_type": "code",
   "execution_count": 23,
   "metadata": {},
   "outputs": [],
   "source": [
    "pred1 = pred_hard_post[0, 0,:, :, :] "
   ]
  },
  {
   "cell_type": "code",
   "execution_count": 24,
   "metadata": {},
   "outputs": [],
   "source": [
    "preds = torch.where(pred1 > 0.5, 1., 0.)"
   ]
  },
  {
   "cell_type": "code",
   "execution_count": 25,
   "metadata": {},
   "outputs": [
    {
     "data": {
      "text/plain": [
       "tensor([[[0., 0., 0.],\n",
       "         [0., 1., 0.],\n",
       "         [1., 0., 1.]],\n",
       "\n",
       "        [[0., 1., 0.],\n",
       "         [1., 0., 1.],\n",
       "         [1., 1., 1.]],\n",
       "\n",
       "        [[0., 1., 0.],\n",
       "         [1., 1., 1.],\n",
       "         [1., 1., 1.]]])"
      ]
     },
     "execution_count": 25,
     "metadata": {},
     "output_type": "execute_result"
    }
   ],
   "source": [
    "preds"
   ]
  },
  {
   "cell_type": "code",
   "execution_count": 27,
   "metadata": {},
   "outputs": [
    {
     "name": "stdout",
     "output_type": "stream",
     "text": [
      "[[0.40936284 0.45539391 0.42519084]\n",
      " [0.23392133 0.70284866 0.28241779]\n",
      " [0.64705065 0.44257945 0.74478704]]\n"
     ]
    }
   ],
   "source": [
    "import numpy as np\n",
    "\n",
    "# Ma trận đầu vào\n",
    "input_matrix = np.array([[-0.3666, -0.1789, -0.3015],\n",
    "                         [-1.1863,  0.8609, -0.9325],\n",
    "                         [ 0.6061, -0.2307,  1.0710]])\n",
    "\n",
    "# Hàm sigmoid\n",
    "def sigmoid(x):\n",
    "    return 1 / (1 + np.exp(-x))\n",
    "\n",
    "# Tính toán sigmoid cho ma trận đầu vào\n",
    "output_matrix = sigmoid(input_matrix)\n",
    "\n",
    "print(output_matrix)\n"
   ]
  }
 ],
 "metadata": {
  "kernelspec": {
   "display_name": "Python 3",
   "language": "python",
   "name": "python3"
  },
  "language_info": {
   "codemirror_mode": {
    "name": "ipython",
    "version": 3
   },
   "file_extension": ".py",
   "mimetype": "text/x-python",
   "name": "python",
   "nbconvert_exporter": "python",
   "pygments_lexer": "ipython3",
   "version": "3.11.5"
  }
 },
 "nbformat": 4,
 "nbformat_minor": 2
}
