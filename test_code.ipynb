{
 "cells": [
  {
   "cell_type": "code",
   "execution_count": 2,
   "metadata": {},
   "outputs": [],
   "source": [
    "import torch\n",
    "import torch.nn.functional as F\n",
    "import torch.nn as nn"
   ]
  },
  {
   "cell_type": "code",
   "execution_count": 3,
   "metadata": {},
   "outputs": [],
   "source": [
    "GAP = nn.Sequential(\n",
    "            nn.GroupNorm(16, 768),\n",
    "            nn.ReLU(inplace=True),\n",
    "            nn.AdaptiveAvgPool3d((1,1,1)),\n",
    "            nn.Conv3d(768, 256, kernel_size=1, stride=1, padding=0)\n",
    "        )"
   ]
  },
  {
   "cell_type": "code",
   "execution_count": 4,
   "metadata": {},
   "outputs": [
    {
     "data": {
      "text/plain": [
       "Sequential(\n",
       "  (0): GroupNorm(16, 768, eps=1e-05, affine=True)\n",
       "  (1): ReLU(inplace=True)\n",
       "  (2): AdaptiveAvgPool3d(output_size=(1, 1, 1))\n",
       "  (3): Conv3d(768, 256, kernel_size=(1, 1, 1), stride=(1, 1, 1))\n",
       ")"
      ]
     },
     "execution_count": 4,
     "metadata": {},
     "output_type": "execute_result"
    }
   ],
   "source": [
    "GAP"
   ]
  },
  {
   "cell_type": "code",
   "execution_count": 7,
   "metadata": {},
   "outputs": [],
   "source": [
    "dec4 = torch.randn(1, 768, 3, 3, 3)\n"
   ]
  },
  {
   "cell_type": "code",
   "execution_count": 8,
   "metadata": {},
   "outputs": [
    {
     "data": {
      "text/plain": [
       "torch.Size([1, 768, 3, 3, 3])"
      ]
     },
     "execution_count": 8,
     "metadata": {},
     "output_type": "execute_result"
    }
   ],
   "source": [
    "dec4.shape"
   ]
  },
  {
   "cell_type": "code",
   "execution_count": 9,
   "metadata": {},
   "outputs": [],
   "source": [
    "x_feat = GAP(dec4) "
   ]
  },
  {
   "cell_type": "code",
   "execution_count": 10,
   "metadata": {},
   "outputs": [
    {
     "data": {
      "text/plain": [
       "torch.Size([1, 256, 1, 1, 1])"
      ]
     },
     "execution_count": 10,
     "metadata": {},
     "output_type": "execute_result"
    }
   ],
   "source": [
    "x_feat.shape"
   ]
  },
  {
   "cell_type": "code",
   "execution_count": 11,
   "metadata": {},
   "outputs": [],
   "source": [
    "out = torch.randn(1, 48, 96, 96, 96)"
   ]
  },
  {
   "cell_type": "code",
   "execution_count": 30,
   "metadata": {},
   "outputs": [],
   "source": [
    "GAP2 = nn.Sequential(\n",
    "    nn.GroupNorm(16, 48),\n",
    "    nn.ReLU(inplace=True),\n",
    "    nn.AdaptiveAvgPool3d((1, 1, 1)),\n",
    "    nn.Conv3d(48, 68, kernel_size=1, stride=1, padding=0),\n",
    "    nn.Conv3d(68, 112, kernel_size=1, stride=1, padding=0),\n",
    "    nn.Conv3d(112, 256, kernel_size=3, stride=1, padding=1), \n",
    "    nn.ReLU(inplace=True),\n",
    "    nn.Conv3d(256, 256, kernel_size=3, stride=1, padding=1),  \n",
    "    nn.ReLU(inplace=True)\n",
    ")"
   ]
  },
  {
   "cell_type": "code",
   "execution_count": 31,
   "metadata": {},
   "outputs": [],
   "source": [
    "x_feat_dec = GAP2(out)"
   ]
  },
  {
   "cell_type": "code",
   "execution_count": 32,
   "metadata": {},
   "outputs": [
    {
     "data": {
      "text/plain": [
       "torch.Size([1, 256, 1, 1, 1])"
      ]
     },
     "execution_count": 32,
     "metadata": {},
     "output_type": "execute_result"
    }
   ],
   "source": [
    "x_feat_dec.shape"
   ]
  },
  {
   "cell_type": "code",
   "execution_count": 21,
   "metadata": {},
   "outputs": [],
   "source": [
    "GAP3 = nn.Sequential(\n",
    "            nn.Conv3d(256, 1, kernel_size=1, stride=1, padding=0),\n",
    "            nn.Conv3d(256, 1, kernel_size=1, stride=1, padding=0),\n",
    "            nn.Conv3d(256, 1, kernel_size=1, stride=1, padding=0)\n",
    "        )"
   ]
  },
  {
   "cell_type": "code",
   "execution_count": 22,
   "metadata": {},
   "outputs": [],
   "source": [
    "x = (x_feat + x_feat_dec)"
   ]
  },
  {
   "cell_type": "code",
   "execution_count": 24,
   "metadata": {},
   "outputs": [],
   "source": [
    "result_matrix = torch.mean(torch.stack([x_feat, x_feat_dec], dim=0), dim=0)"
   ]
  },
  {
   "cell_type": "code",
   "execution_count": 25,
   "metadata": {},
   "outputs": [
    {
     "data": {
      "text/plain": [
       "torch.Size([1, 256, 1, 1, 1])"
      ]
     },
     "execution_count": 25,
     "metadata": {},
     "output_type": "execute_result"
    }
   ],
   "source": [
    "result_matrix.shape"
   ]
  },
  {
   "cell_type": "code",
   "execution_count": 27,
   "metadata": {},
   "outputs": [
    {
     "name": "stdout",
     "output_type": "stream",
     "text": [
      "[[0.40936284 0.45539391 0.42519084]\n",
      " [0.23392133 0.70284866 0.28241779]\n",
      " [0.64705065 0.44257945 0.74478704]]\n"
     ]
    }
   ],
   "source": [
    "import numpy as np\n",
    "\n",
    "# Ma trận đầu vào\n",
    "input_matrix = np.array([[-0.3666, -0.1789, -0.3015],\n",
    "                         [-1.1863,  0.8609, -0.9325],\n",
    "                         [ 0.6061, -0.2307,  1.0710]])\n",
    "\n",
    "# Hàm sigmoid\n",
    "def sigmoid(x):\n",
    "    return 1 / (1 + np.exp(-x))\n",
    "\n",
    "# Tính toán sigmoid cho ma trận đầu vào\n",
    "output_matrix = sigmoid(input_matrix)\n",
    "\n",
    "print(output_matrix)\n"
   ]
  },
  {
   "cell_type": "code",
   "execution_count": 1,
   "metadata": {},
   "outputs": [],
   "source": [
    "import torch\n",
    "import torch.nn as nn"
   ]
  },
  {
   "cell_type": "code",
   "execution_count": 10,
   "metadata": {},
   "outputs": [],
   "source": [
    "# Định nghĩa mạng tích chập để chuyển đổi kích thước tensor\n",
    "class Conv3DNet(nn.Module):\n",
    "    def __init__(self):\n",
    "        super(Conv3DNet, self).__init__()\n",
    "        self.conv1 = nn.Conv3d(768, 512, kernel_size=3, padding=1, stride=1)\n",
    "        self.conv2 = nn.Conv3d(512, 256, kernel_size=3, padding=1, stride=2)\n",
    "        self.activation = nn.ReLU()\n",
    "\n",
    "    def forward(self, x):\n",
    "        x = self.activation(self.conv1(x))\n",
    "        x = self.activation(self.conv2(x))\n",
    "        return x"
   ]
  },
  {
   "cell_type": "code",
   "execution_count": 9,
   "metadata": {},
   "outputs": [
    {
     "name": "stdout",
     "output_type": "stream",
     "text": [
      "torch.Size([1, 512, 3, 3, 3])\n"
     ]
    }
   ],
   "source": [
    "conv3d_net = Conv3DNet()\n",
    "\n",
    "# Tạo một tensor đầu vào có kích thước (1, 768, 3, 3, 3)\n",
    "input_tensor = torch.randn(1, 768, 3, 3, 3)\n",
    "\n",
    "# Sử dụng mạng tích chập để chuyển đổi kích thước tensor\n",
    "output_tensor = conv3d_net(input_tensor)\n",
    "\n",
    "print(output_tensor.shape)  # In ra kích"
   ]
  },
  {
   "cell_type": "code",
   "execution_count": null,
   "metadata": {},
   "outputs": [],
   "source": []
  }
 ],
 "metadata": {
  "kernelspec": {
   "display_name": "Python 3",
   "language": "python",
   "name": "python3"
  },
  "language_info": {
   "codemirror_mode": {
    "name": "ipython",
    "version": 3
   },
   "file_extension": ".py",
   "mimetype": "text/x-python",
   "name": "python",
   "nbconvert_exporter": "python",
   "pygments_lexer": "ipython3",
   "version": "3.11.5"
  }
 },
 "nbformat": 4,
 "nbformat_minor": 2
}
